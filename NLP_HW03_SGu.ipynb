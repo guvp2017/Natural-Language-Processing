{
 "cells": [
  {
   "cell_type": "markdown",
   "metadata": {},
   "source": [
    "<a id='BacktoTop'></a>\n",
    "\n",
    "### SMU NLP Course (DS7337) -- Homework 03 submission  (06-10-2019)\n",
    "### Shanqing Gu (Class 401)"
   ]
  },
  {
   "cell_type": "markdown",
   "metadata": {},
   "source": [
    "###  Table of Contents \n",
    "\n",
    "#### 1. [Edit Distance Calculation](#edc1) \n",
    "#### 2. [Remove Stopwords](#rsw2)\n",
    "#### 3. [Compare Stemmers](#cs3)"
   ]
  },
  {
   "cell_type": "code",
   "execution_count": 1,
   "metadata": {},
   "outputs": [],
   "source": [
    "## import libraries and update parameters for matplotlab and seaborn\n",
    "\n",
    "import pandas as pd\n",
    "import numpy as np\n",
    "\n",
    "import copy\n",
    "\n",
    "import nltk\n",
    "from nltk.corpus import stopwords\n",
    "from nltk.tokenize import word_tokenize\n",
    "\n",
    "from nltk.stem import PorterStemmer\n",
    "from nltk.stem import SnowballStemmer\n",
    "from nltk.stem import WordNetLemmatizer\n",
    "from nltk.stem import LancasterStemmer\n",
    "from nltk.stem import RegexpStemmer\n",
    "\n",
    "\n",
    "import matplotlib.pyplot as plt\n",
    "plt.style.use('classic')\n",
    "%matplotlib inline\n",
    "\n",
    "import seaborn as sns\n",
    "sns.set(style=\"dark\")"
   ]
  },
  {
   "cell_type": "markdown",
   "metadata": {},
   "source": [
    "<a id='edc1'></a>\n",
    "#### Q1: Edit Distance Calculation\n",
    "Compare your given name with your nickname (if you don’t have a nickname, invent one for this assignment) by answering the following questions:\n",
    "\n",
    "a.\tWhat is the edit distance between your nickname and your given name?\n",
    "\n",
    "b.\tWhat is the percentage string match between your nickname and your given name?\n",
    "\n",
    "Show your work for both calculations.\n",
    "\n",
    "\n",
    "[Back to top](#BacktoTop)"
   ]
  },
  {
   "cell_type": "markdown",
   "metadata": {},
   "source": [
    "#### Q1.1: python codes"
   ]
  },
  {
   "cell_type": "code",
   "execution_count": 2,
   "metadata": {},
   "outputs": [],
   "source": [
    "## function levenshteinDistance() to get the edit sistance\n",
    "## reference: https://rosettacode.org/wiki/Levenshtein_distance\n",
    "## also can be shown with matrices (Sarkar book chapter 6: text Similarity and CluStering, p294 of 397)\n",
    "\n",
    "def levenshteinDistance(str1, str2):\n",
    "    f = len(str1)\n",
    "    n = len(str2)\n",
    "    fn_sum = float(f + n)\n",
    "    d = []           \n",
    "    for i in range(f+1):\n",
    "        d.append([i]) \n",
    "    del d[0][0]   \n",
    "        \n",
    "    for j in range(n+1):\n",
    "        d[0].append(j)  \n",
    "        \n",
    "    for j in range(1,n+1):\n",
    "        for i in range(1,f+1):\n",
    "            if str1[i-1] == str2[j-1]:\n",
    "                d[i].insert(j,d[i-1][j-1])           \n",
    "            else:\n",
    "                minimum = min(d[i-1][j]+1, d[i][j-1]+1, d[i-1][j-1]+2)         \n",
    "                d[i].insert(j, minimum)\n",
    "                \n",
    "    leven_dist = d[-1][-1]\n",
    "    \n",
    "    pct = (fn_sum - leven_dist)/fn_sum\n",
    "    \n",
    "    return {'Edit distance': leven_dist, 'Percentage for string match between nickname and given name': pct}"
   ]
  },
  {
   "cell_type": "code",
   "execution_count": 3,
   "metadata": {},
   "outputs": [
    {
     "name": "stdout",
     "output_type": "stream",
     "text": [
      "{'Edit distance': 4, 'Percentage for string match between nickname and given name': 0.6666666666666666}\n",
      "{'Edit distance': 4, 'Percentage for string match between nickname and given name': 0.6666666666666666}\n"
     ]
    }
   ],
   "source": [
    "## givenname: \"Shanqing\", and nickname: \"Shan\"\n",
    "## get edit distance and string match percentage from levenshteinDistance()\n",
    "print(levenshteinDistance(\"Shanqing\",\"Shan\")) \n",
    "print(levenshteinDistance(\"Shan\",\"Shanqing\")) "
   ]
  },
  {
   "cell_type": "markdown",
   "metadata": {},
   "source": [
    "#### Q1.2: Summary for Edit Distance\n",
    "\n",
    "Edit distance, also known as \"levenshtein Edit Distance\", is to measure how near or far a word is from the input word. \n",
    "\n",
    "The edit distance for my given name \"shanqing\" and nickname \"shan\" is 4, and the percentage for string match between nickname and given name is 0.67. The distance between these two words is same as that when both strings are reversed."
   ]
  },
  {
   "cell_type": "markdown",
   "metadata": {},
   "source": [
    "<a id='rsw2'></a>\n",
    "#### Q2: Removing Stopwords \n",
    "\n",
    "Find a friend (or family member or classmate) who you know has read a certain book. Without your friend knowing, copy the first two sentences of that book. Now rewrite the words from those sentences, excluding stop words. Now tell your friend to guess which book the words are from by reading them just that list of words. Did you friend correctly guess the book on the first try? What did he or she guess? Explain why you think you friend either was or was not able to guess the book from hearing the list of words. \n",
    "\n",
    "[Back to top](#BacktoTop)"
   ]
  },
  {
   "cell_type": "markdown",
   "metadata": {},
   "source": [
    "#### Q2.1: python codes"
   ]
  },
  {
   "cell_type": "code",
   "execution_count": 4,
   "metadata": {},
   "outputs": [],
   "source": [
    "## the first 2 setences from book \"the lion king\"\n",
    "sentence = \"From the smallest ant to the largest elephant, every living thing has a place in the great Circle of Life. Mufasa’s place was as king of the lions.\""
   ]
  },
  {
   "cell_type": "code",
   "execution_count": 5,
   "metadata": {},
   "outputs": [],
   "source": [
    "## tokenize_text() to tokenize text, refer to the page of 190 in Chapter 4.\n",
    "def tokenize_text(text):\n",
    "    tokens = nltk.word_tokenize(text)\n",
    "    tokens = [token.strip() for token in tokens]\n",
    "    return tokens"
   ]
  },
  {
   "cell_type": "code",
   "execution_count": 6,
   "metadata": {},
   "outputs": [],
   "source": [
    "## remove_stopwords() to remove stopwords in tokens, as referenced from page 136 of 397 (Chapter 3)\n",
    "def remove_stopwords(tokens):\n",
    "    stopword_list = nltk.corpus.stopwords.words('english') # a list of stopwords for English from nltk\n",
    "    filtered_tokens = [token for token in tokens if token not in stopword_list]\n",
    "    return filtered_tokens"
   ]
  },
  {
   "cell_type": "code",
   "execution_count": 7,
   "metadata": {
    "scrolled": true
   },
   "outputs": [],
   "source": [
    "## tokenize text with tokenize_text()\n",
    "tokens =[]\n",
    "tokens = tokenize_text(sentence.lower()) \n",
    "## tokens"
   ]
  },
  {
   "cell_type": "code",
   "execution_count": 8,
   "metadata": {},
   "outputs": [],
   "source": [
    "## remove the necessary stopwords with remove_stopwords() function\n",
    "remove_stw = remove_stopwords(tokens)\n",
    "## remove_stw"
   ]
  },
  {
   "cell_type": "code",
   "execution_count": 9,
   "metadata": {
    "scrolled": false
   },
   "outputs": [
    {
     "data": {
      "text/plain": [
       "['smallest',\n",
       " 'ant',\n",
       " 'largest',\n",
       " 'elephant',\n",
       " 'every',\n",
       " 'living',\n",
       " 'thing',\n",
       " 'place',\n",
       " 'great',\n",
       " 'circle',\n",
       " 'life',\n",
       " 'mufasa',\n",
       " 'place',\n",
       " 'king',\n",
       " 'lions']"
      ]
     },
     "execution_count": 9,
     "metadata": {},
     "output_type": "execute_result"
    }
   ],
   "source": [
    "## clean tokens with removing punctuations\n",
    "clean_tokens = [word for word in remove_stw if word.isalpha()]\n",
    "clean_tokens"
   ]
  },
  {
   "cell_type": "markdown",
   "metadata": {},
   "source": [
    "#### Q2.2: Summary for removing stopwords\n",
    "Stopwords are words that have little or no significance. They are usually removed from text during processing in order to retain words having maximum significance and context. Words like \"from\", \"a\", \"the\" and so on are stopwords. Each domain of language may have its own set of stopwords.\n",
    "\n",
    "For this question, the answer is \"yes\". My friend could recognize the sentences are from book \"The Lion King\" by just reading the collected tokens.\n",
    "\n",
    "The cleaned tokens are: ['smallest', 'ant', 'largest', 'elephant', 'every', 'living', 'thing', 'place', 'great', 'circle', 'life', 'mufasa', 'place', 'king', 'lions']"
   ]
  },
  {
   "cell_type": "markdown",
   "metadata": {},
   "source": [
    "<a id='cs3'></a>\n",
    "#### Q3: Compare Stemmers\n",
    "\n",
    "Run one of the stemmers available in Python. Run the same two sentences from question 2 above through the stemmer and show the results. How many of the outputted stems are valid morphological roots of the corresponding words? Express this answer as a percentage.\n",
    "\n",
    "[Back to top](#BacktoTop)"
   ]
  },
  {
   "cell_type": "markdown",
   "metadata": {},
   "source": [
    "#### Q3.1: python codes"
   ]
  },
  {
   "cell_type": "code",
   "execution_count": 10,
   "metadata": {},
   "outputs": [],
   "source": [
    "## get_stems function for 5 different stemmers\n",
    "def get_stems(phrase, method):\n",
    "    \n",
    "    ps = nltk.stem.PorterStemmer()\n",
    "    ss = nltk.stem.SnowballStemmer('english')\n",
    "    wnl = nltk.wordnet.WordNetLemmatizer()\n",
    "    lans = nltk.stem.LancasterStemmer()\n",
    "    rs = nltk.stem.RegexpStemmer('ing$|s$|ed$', min=4)\n",
    "    \n",
    "    words_to_stem = remove_stopwords(phrase)\n",
    "\n",
    "    stems = [w for w in words_to_stem]\n",
    "    stems = []\n",
    "    \n",
    "    if method == 'porter' :\n",
    "        for w in words_to_stem:\n",
    "            stems.append(ps.stem(w))\n",
    " \n",
    "    elif method == 'snowball': \n",
    "        for w in words_to_stem:\n",
    "            stems.append(ss.stem(w))\n",
    "            \n",
    "    elif method == 'lemmatize': \n",
    "        for w in words_to_stem:\n",
    "            stems.append(wnl.lemmatize(w))\n",
    "            \n",
    "    elif method == 'Lancaster': \n",
    "        for w in words_to_stem:\n",
    "            stems.append(lans.stem(w)) \n",
    "            \n",
    "    elif method == 'Regexp': \n",
    "        for w in words_to_stem:\n",
    "            stems.append(rs.stem(w))\n",
    "\n",
    "    return (stems)"
   ]
  },
  {
   "cell_type": "code",
   "execution_count": 11,
   "metadata": {},
   "outputs": [],
   "source": [
    "## get the stems with 5 Stemmer methods\n",
    "PorterStemmer = get_stems(clean_tokens, 'porter')\n",
    "SnowballStemmer = get_stems(clean_tokens, 'snowball')\n",
    "WordNetLemmatizer = get_stems(clean_tokens, 'lemmatize')\n",
    "LancasterStemmer = get_stems(clean_tokens, 'Lancaster')\n",
    "RegexpStemmer = get_stems(clean_tokens, 'Regexp')"
   ]
  },
  {
   "cell_type": "code",
   "execution_count": 12,
   "metadata": {},
   "outputs": [
    {
     "data": {
      "text/html": [
       "<div>\n",
       "<style scoped>\n",
       "    .dataframe tbody tr th:only-of-type {\n",
       "        vertical-align: middle;\n",
       "    }\n",
       "\n",
       "    .dataframe tbody tr th {\n",
       "        vertical-align: top;\n",
       "    }\n",
       "\n",
       "    .dataframe thead th {\n",
       "        text-align: right;\n",
       "    }\n",
       "</style>\n",
       "<table border=\"1\" class=\"dataframe\">\n",
       "  <thead>\n",
       "    <tr style=\"text-align: right;\">\n",
       "      <th></th>\n",
       "      <th>Clean Tokens</th>\n",
       "      <th>PortersStemmer</th>\n",
       "      <th>SnowballStemmer</th>\n",
       "      <th>WordNetLemmatizer</th>\n",
       "      <th>LancasterStemmer</th>\n",
       "      <th>RegexpStemmer</th>\n",
       "    </tr>\n",
       "  </thead>\n",
       "  <tbody>\n",
       "    <tr>\n",
       "      <th>0</th>\n",
       "      <td>smallest</td>\n",
       "      <td>smallest</td>\n",
       "      <td>smallest</td>\n",
       "      <td>smallest</td>\n",
       "      <td>smallest</td>\n",
       "      <td>smallest</td>\n",
       "    </tr>\n",
       "    <tr>\n",
       "      <th>1</th>\n",
       "      <td>ant</td>\n",
       "      <td>ant</td>\n",
       "      <td>ant</td>\n",
       "      <td>ant</td>\n",
       "      <td>ant</td>\n",
       "      <td>ant</td>\n",
       "    </tr>\n",
       "    <tr>\n",
       "      <th>2</th>\n",
       "      <td>largest</td>\n",
       "      <td>largest</td>\n",
       "      <td>largest</td>\n",
       "      <td>largest</td>\n",
       "      <td>largest</td>\n",
       "      <td>largest</td>\n",
       "    </tr>\n",
       "    <tr>\n",
       "      <th>3</th>\n",
       "      <td>elephant</td>\n",
       "      <td>eleph</td>\n",
       "      <td>eleph</td>\n",
       "      <td>elephant</td>\n",
       "      <td>eleph</td>\n",
       "      <td>elephant</td>\n",
       "    </tr>\n",
       "    <tr>\n",
       "      <th>4</th>\n",
       "      <td>every</td>\n",
       "      <td>everi</td>\n",
       "      <td>everi</td>\n",
       "      <td>every</td>\n",
       "      <td>every</td>\n",
       "      <td>every</td>\n",
       "    </tr>\n",
       "    <tr>\n",
       "      <th>5</th>\n",
       "      <td>living</td>\n",
       "      <td>live</td>\n",
       "      <td>live</td>\n",
       "      <td>living</td>\n",
       "      <td>liv</td>\n",
       "      <td>liv</td>\n",
       "    </tr>\n",
       "    <tr>\n",
       "      <th>6</th>\n",
       "      <td>thing</td>\n",
       "      <td>thing</td>\n",
       "      <td>thing</td>\n",
       "      <td>thing</td>\n",
       "      <td>thing</td>\n",
       "      <td>th</td>\n",
       "    </tr>\n",
       "    <tr>\n",
       "      <th>7</th>\n",
       "      <td>place</td>\n",
       "      <td>place</td>\n",
       "      <td>place</td>\n",
       "      <td>place</td>\n",
       "      <td>plac</td>\n",
       "      <td>place</td>\n",
       "    </tr>\n",
       "    <tr>\n",
       "      <th>8</th>\n",
       "      <td>great</td>\n",
       "      <td>great</td>\n",
       "      <td>great</td>\n",
       "      <td>great</td>\n",
       "      <td>gre</td>\n",
       "      <td>great</td>\n",
       "    </tr>\n",
       "    <tr>\n",
       "      <th>9</th>\n",
       "      <td>circle</td>\n",
       "      <td>circl</td>\n",
       "      <td>circl</td>\n",
       "      <td>circle</td>\n",
       "      <td>circ</td>\n",
       "      <td>circle</td>\n",
       "    </tr>\n",
       "    <tr>\n",
       "      <th>10</th>\n",
       "      <td>life</td>\n",
       "      <td>life</td>\n",
       "      <td>life</td>\n",
       "      <td>life</td>\n",
       "      <td>lif</td>\n",
       "      <td>life</td>\n",
       "    </tr>\n",
       "    <tr>\n",
       "      <th>11</th>\n",
       "      <td>mufasa</td>\n",
       "      <td>mufasa</td>\n",
       "      <td>mufasa</td>\n",
       "      <td>mufasa</td>\n",
       "      <td>mufas</td>\n",
       "      <td>mufasa</td>\n",
       "    </tr>\n",
       "    <tr>\n",
       "      <th>12</th>\n",
       "      <td>place</td>\n",
       "      <td>place</td>\n",
       "      <td>place</td>\n",
       "      <td>place</td>\n",
       "      <td>plac</td>\n",
       "      <td>place</td>\n",
       "    </tr>\n",
       "    <tr>\n",
       "      <th>13</th>\n",
       "      <td>king</td>\n",
       "      <td>king</td>\n",
       "      <td>king</td>\n",
       "      <td>king</td>\n",
       "      <td>king</td>\n",
       "      <td>k</td>\n",
       "    </tr>\n",
       "    <tr>\n",
       "      <th>14</th>\n",
       "      <td>lions</td>\n",
       "      <td>lion</td>\n",
       "      <td>lion</td>\n",
       "      <td>lion</td>\n",
       "      <td>lion</td>\n",
       "      <td>lion</td>\n",
       "    </tr>\n",
       "  </tbody>\n",
       "</table>\n",
       "</div>"
      ],
      "text/plain": [
       "   Clean Tokens PortersStemmer SnowballStemmer WordNetLemmatizer  \\\n",
       "0      smallest       smallest        smallest          smallest   \n",
       "1           ant            ant             ant               ant   \n",
       "2       largest        largest         largest           largest   \n",
       "3      elephant          eleph           eleph          elephant   \n",
       "4         every          everi           everi             every   \n",
       "5        living           live            live            living   \n",
       "6         thing          thing           thing             thing   \n",
       "7         place          place           place             place   \n",
       "8         great          great           great             great   \n",
       "9        circle          circl           circl            circle   \n",
       "10         life           life            life              life   \n",
       "11       mufasa         mufasa          mufasa            mufasa   \n",
       "12        place          place           place             place   \n",
       "13         king           king            king              king   \n",
       "14        lions           lion            lion              lion   \n",
       "\n",
       "   LancasterStemmer RegexpStemmer  \n",
       "0          smallest      smallest  \n",
       "1               ant           ant  \n",
       "2           largest       largest  \n",
       "3             eleph      elephant  \n",
       "4             every         every  \n",
       "5               liv           liv  \n",
       "6             thing            th  \n",
       "7              plac         place  \n",
       "8               gre         great  \n",
       "9              circ        circle  \n",
       "10              lif          life  \n",
       "11            mufas        mufasa  \n",
       "12             plac         place  \n",
       "13             king             k  \n",
       "14             lion          lion  "
      ]
     },
     "execution_count": 12,
     "metadata": {},
     "output_type": "execute_result"
    }
   ],
   "source": [
    "## compare the outputted stems with 5 different stemmers\n",
    "stemmers_comp = pd.DataFrame({\"Clean Tokens\":clean_tokens,\n",
    "                             \"PortersStemmer\": PorterStemmer, \n",
    "                             \"SnowballStemmer\": SnowballStemmer,\n",
    "                             \"WordNetLemmatizer\": WordNetLemmatizer,\n",
    "                             \"LancasterStemmer\":LancasterStemmer,\n",
    "                             \"RegexpStemmer\": RegexpStemmer\n",
    "                            })\n",
    "## show results\n",
    "stemmers_comp"
   ]
  },
  {
   "cell_type": "code",
   "execution_count": 13,
   "metadata": {},
   "outputs": [
    {
     "name": "stdout",
     "output_type": "stream",
     "text": [
      "Percentage of valid roots from PortersStemmer: 66.66666666666667 %\n",
      "Percentage of valid roots from SnowballStemmer: 66.66666666666667 %\n",
      "Percentage of valid roots from WordNetLemmatizer: 86.66666666666667 %\n",
      "Percentage of valid roots from LancasterStemmer: 33.333333333333336 %\n",
      "Percentage of valid roots from RegexpStemmer: 66.66666666666667 %\n"
     ]
    }
   ],
   "source": [
    "# PortersStemmer\n",
    "n = stemmers_comp.shape[0] # get total number of outputted stems\n",
    "iv_p = 5\n",
    "v_p_pct = 100*(n-iv_p)/n # calculate the precentage of valid roots\n",
    "print(\"Percentage of valid roots from PortersStemmer:\", v_p_pct, \"%\")\n",
    "\n",
    "# SnowballStemmer\n",
    "iv_s = 5\n",
    "v_s_pct = 100*(n-iv_s)/n\n",
    "print(\"Percentage of valid roots from SnowballStemmer:\", v_s_pct, \"%\")\n",
    "\n",
    "# WordNetLemmatizer\n",
    "iv_w = 2\n",
    "v_w_pct = 100*(n-iv_w)/n\n",
    "print(\"Percentage of valid roots from WordNetLemmatizer:\", v_w_pct, \"%\")\n",
    "\n",
    "# LancasterStemmer\n",
    "iv_l = 10\n",
    "v_l_pct = 100*(n-iv_l)/n\n",
    "print(\"Percentage of valid roots from LancasterStemmer:\", v_l_pct, \"%\")\n",
    "\n",
    "# RegexpStemmer\n",
    "iv_r = 5\n",
    "v_r_pct = 100*(n-iv_r)/n\n",
    "print(\"Percentage of valid roots from RegexpStemmer:\", v_r_pct, \"%\")"
   ]
  },
  {
   "cell_type": "code",
   "execution_count": 14,
   "metadata": {},
   "outputs": [
    {
     "data": {
      "text/html": [
       "<div>\n",
       "<style scoped>\n",
       "    .dataframe tbody tr th:only-of-type {\n",
       "        vertical-align: middle;\n",
       "    }\n",
       "\n",
       "    .dataframe tbody tr th {\n",
       "        vertical-align: top;\n",
       "    }\n",
       "\n",
       "    .dataframe thead th {\n",
       "        text-align: right;\n",
       "    }\n",
       "</style>\n",
       "<table border=\"1\" class=\"dataframe\">\n",
       "  <thead>\n",
       "    <tr style=\"text-align: right;\">\n",
       "      <th></th>\n",
       "      <th>Stemmer_Name</th>\n",
       "      <th>Valid_Percentage</th>\n",
       "    </tr>\n",
       "  </thead>\n",
       "  <tbody>\n",
       "    <tr>\n",
       "      <th>0</th>\n",
       "      <td>PortersStemmer</td>\n",
       "      <td>66.666667</td>\n",
       "    </tr>\n",
       "    <tr>\n",
       "      <th>1</th>\n",
       "      <td>SnowballStemmer</td>\n",
       "      <td>66.666667</td>\n",
       "    </tr>\n",
       "    <tr>\n",
       "      <th>2</th>\n",
       "      <td>WordNetLemmatizer</td>\n",
       "      <td>86.666667</td>\n",
       "    </tr>\n",
       "    <tr>\n",
       "      <th>3</th>\n",
       "      <td>LancasterStemmer</td>\n",
       "      <td>33.333333</td>\n",
       "    </tr>\n",
       "    <tr>\n",
       "      <th>4</th>\n",
       "      <td>RegexpStemmer</td>\n",
       "      <td>66.666667</td>\n",
       "    </tr>\n",
       "  </tbody>\n",
       "</table>\n",
       "</div>"
      ],
      "text/plain": [
       "        Stemmer_Name  Valid_Percentage\n",
       "0     PortersStemmer         66.666667\n",
       "1    SnowballStemmer         66.666667\n",
       "2  WordNetLemmatizer         86.666667\n",
       "3   LancasterStemmer         33.333333\n",
       "4      RegexpStemmer         66.666667"
      ]
     },
     "execution_count": 14,
     "metadata": {},
     "output_type": "execute_result"
    }
   ],
   "source": [
    "## compile the stemmer names and values with DataFrame\n",
    "data = {'Stemmer_Name': ['PortersStemmer', 'SnowballStemmer', 'WordNetLemmatizer', 'LancasterStemmer', 'RegexpStemmer'],\n",
    "     'Valid_Percentage': [v_p_pct, v_s_pct, v_w_pct, v_l_pct, v_r_pct]}\n",
    "\n",
    "df = pd.DataFrame(data=data)\n",
    "df"
   ]
  },
  {
   "cell_type": "code",
   "execution_count": 15,
   "metadata": {},
   "outputs": [
    {
     "data": {
      "image/png": "[encoded data removed]",
      "text/plain": [
       "<Figure size 720x432 with 1 Axes>"
      ]
     },
     "metadata": {
      "needs_background": "light"
     },
     "output_type": "display_data"
    }
   ],
   "source": [
    "## Compare the percentage of valid morphological roots with different stemmers\n",
    "## plot with sns.barplot\n",
    "\n",
    "plt.figure(figsize=(10, 6))\n",
    "plt.xticks(rotation=45)\n",
    "\n",
    "sns.barplot(x ='Stemmer_Name', y = \"Valid_Percentage\", data=df)\n",
    "\n",
    "plt.ylim(0, 105)\n",
    "plt.title('Compare the percentage of valid morphological roots with different stemmers',fontsize = '16')\n",
    "plt.xlabel('Stemmer Name', fontsize = 16)\n",
    "plt.ylabel('Percentage of Valid Roots', fontsize = 16)\n",
    "plt.rc('xtick', labelsize=12) \n",
    "plt.rc('ytick', labelsize=12) \n",
    "plt.savefig('stemmer_comp.png') \n",
    "plt.tight_layout()"
   ]
  },
  {
   "cell_type": "markdown",
   "metadata": {},
   "source": [
    "#### Q3.2: Summary for Compare Stemmers"
   ]
  },
  {
   "attachments": {},
   "cell_type": "markdown",
   "metadata": {},
   "source": [
    "PorterStemmer is used most frequently. RegexpStemmer is based on user-defined rules, and SnowballStemmer supports stemming in 13 different languages besides English. The performances for these 3 Stemmers are equally better than that of LancasterStemmer. The performance can be calculated from the percentage of valid morphological roots.\n",
    "\n",
    "The process of lemmatization is very similar to stemming. The difference is that the root stem may not always be a lexicographically correct word, while the root word (lemma) will always be present in the dictionary. A robust lemmatization module that uses WordNet and the word’s syntax and semantics to get the root word or lemma.\n",
    "\n",
    "As shown in the barplot for stemmer comparison, it seems lemmatization works better than other 4 Stemmers because one additional step is involved where a lemma is formed by removing the affix from the word if and only if the lemma is present in the dictionary."
   ]
  },
  {
   "cell_type": "markdown",
   "metadata": {},
   "source": [
    "-- The End of Homework 03 --"
   ]
  }
 ],
 "metadata": {
  "kernelspec": {
   "display_name": "Python 3",
   "language": "python",
   "name": "python3"
  },
  "language_info": {
   "codemirror_mode": {
    "name": "ipython",
    "version": 3
   },
   "file_extension": ".py",
   "mimetype": "text/x-python",
   "name": "python",
   "nbconvert_exporter": "python",
   "pygments_lexer": "ipython3",
   "version": "3.6.8"
  }
 },
 "nbformat": 4,
 "nbformat_minor": 2
}
