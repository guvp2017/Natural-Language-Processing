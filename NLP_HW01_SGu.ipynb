{
 "cells": [
  {
   "cell_type": "markdown",
   "metadata": {},
   "source": [
    "<a id='BacktoTop'></a>\n",
    "\n",
    "### SMU NLP Course (DS7337) -- Homework 01 submission  (05-12-2019)\n",
    "### Shanqing Gu (Class 401)"
   ]
  },
  {
   "cell_type": "markdown",
   "metadata": {},
   "source": [
    "###  Table of Contents \n",
    "\n",
    "#### 1. [Install Python and NLTK](#InstallPN) \n",
    "#### 2. [Instructions for implementing a “lexical diversity” scoring routine](#BKLex)\n",
    "#### 3. [Obtain 3 texts, report the lexical diversity score and explain the results](#ORE)\n",
    "#### 4. [Compare the vocabulary size of the same 3 texts and explain the results](#CE)\n",
    "#### 5. [Argue if vocabulary size and lexical diversity in combination could be a better measure of text difficulty](#BetterMeasure)"
   ]
  },
  {
   "cell_type": "markdown",
   "metadata": {},
   "source": [
    "<a id='InstallPN'></a>\n",
    "#### Section 1: Install Python and NLTK\n",
    "Install Python (if you don’t have it already), and install NLTK\n",
    "\n",
    "The installed Python version used for this homework is 3.6.8 and the NLTK version is 3.4\n",
    "\n",
    "[Back to top](#BacktoTop)"
   ]
  },
  {
   "cell_type": "code",
   "execution_count": 1,
   "metadata": {
    "scrolled": true
   },
   "outputs": [
    {
     "name": "stdout",
     "output_type": "stream",
     "text": [
      "The Python version is 3.6.8.\n",
      "The NLTK version is 3.4.\n"
     ]
    }
   ],
   "source": [
    "## Check Python and NLTK versions\n",
    "\n",
    "from platform import python_version\n",
    "print('The Python version is {}.'.format(python_version()))\n",
    "\n",
    "import nltk\n",
    "print('The NLTK version is {}.'.format(nltk.__version__))"
   ]
  },
  {
   "cell_type": "markdown",
   "metadata": {},
   "source": [
    "<a id='BKLex'></a>\n",
    "#### Section 2: Instructions for implementing a “lexical diversity” scoring routine\n",
    "Follow the instructions in chapter 1 of Bird-Klein for implementing a “lexical diversity” scoring routine\n",
    "\n",
    "2.1 Import some external libraries for this homework\n",
    "\n",
    "2.2 Lexical diversity score function\n",
    "\n",
    "[Back to top](#BacktoTop)"
   ]
  },
  {
   "cell_type": "markdown",
   "metadata": {},
   "source": [
    "#### 2.1 Import some external libraries for this homework\n",
    "\n",
    "Import some external libraries: numpy, pandas, PlaintextCorpusReader, matplotlib.pyplot, rcParams"
   ]
  },
  {
   "cell_type": "code",
   "execution_count": 2,
   "metadata": {},
   "outputs": [],
   "source": [
    "import numpy as np\n",
    "import pandas as pd\n",
    "\n",
    "from nltk.corpus import PlaintextCorpusReader\n",
    "\n",
    "import matplotlib.pyplot as plt\n",
    "%matplotlib inline\n",
    "plt.style.use('seaborn-white')\n",
    "\n",
    "from matplotlib import rcParams\n",
    "rcParams.update({'figure.autolayout': True})\n",
    "plt.rc('xtick', labelsize=15)  \n",
    "plt.rc('ytick', labelsize=15) "
   ]
  },
  {
   "cell_type": "markdown",
   "metadata": {},
   "source": [
    "#### 2.2 Lexical diversity score function\n",
    "\n",
    "“token” is defined as a particular appearance of a given word in a text; \n",
    "\n",
    "“type” is defined as the unique form of the word as a particular sequence of letters;\n",
    "\n",
    "\"Lexical diversity score\" is defined as token/type ratio, counting word tokens by using len(text) and word types by using len(set(text))."
   ]
  },
  {
   "cell_type": "code",
   "execution_count": 3,
   "metadata": {},
   "outputs": [],
   "source": [
    "## Define lexical diversity score function based on the instructions in chapter 1 of Bird-Klein (Ref. 1)\n",
    "\n",
    "def lexical_diversity(text):\n",
    "    tokens = len(text) \n",
    "    types = len(set(text)) \n",
    "    diversity_score = types / tokens \n",
    "    return diversity_score"
   ]
  },
  {
   "cell_type": "markdown",
   "metadata": {},
   "source": [
    "<a id='ORE'></a>\n",
    "#### Section 3: Obtain 3 texts, report the lexical diversity score and explain the results\n",
    "\n",
    "Go to http://www.gutenberg.org/wiki/Children%27s_Instructional_Books_(Bookshelf), and obtain three texts (of different grade levels) from the “Graded Readers” section. Report the lexical diversity score of each. Explain whether the result was surprising\n",
    "\n",
    "##### 3.1 Follow instructions to obtain 3 tests of different grade levels from the \"Graded Readers\" section.\n",
    "\n",
    "##### 3.2 Report the lexical diversity score of each (table and plot).\n",
    "\n",
    "##### 3.3 Explain whether the result was surprising\n",
    "\n",
    "\n",
    "[Back to top](#BacktoTop)"
   ]
  },
  {
   "cell_type": "markdown",
   "metadata": {},
   "source": [
    "#### 3.1 Follow instructions to obtain 3 texts of different grade levels from the \"Graded Readers\" section\n",
    "\n",
    "3 texts of different grade levels from the \"Graded Readers\" section in McGuffey's Eclectic Reader Book'.\n",
    "\n",
    "2nd grade: ('mg2_pg14668.txt'), 4th grade: ('mg4_pg14880.txt'), 6th grade: (mg6_pg16751.txt').\n",
    "\n",
    "Also check the start of corpus file."
   ]
  },
  {
   "cell_type": "code",
   "execution_count": 4,
   "metadata": {},
   "outputs": [],
   "source": [
    "## Get file path\n",
    "\n",
    "file_dir = \"/Users/shanqinggu/Desktop/\"\n",
    "corpus_root = \"./texts\"\n",
    "files = \".*\\.txt\""
   ]
  },
  {
   "cell_type": "code",
   "execution_count": 5,
   "metadata": {},
   "outputs": [
    {
     "name": "stdout",
     "output_type": "stream",
     "text": [
      "3 text files: ['mg2_pg14668.txt', 'mg4_pg14880.txt', 'mg6_pg16751.txt']\n",
      "Start of corpus file: <Text: The Project Gutenberg EBook of McGuffey ' s...>\n"
     ]
    }
   ],
   "source": [
    "## Create an NLTK corpus for evaluation\n",
    "\n",
    "readers = PlaintextCorpusReader(corpus_root, files)\n",
    "readers.fileids()\n",
    "corpus = nltk.Text(readers.words())\n",
    "\n",
    "print('3 text files:', readers.fileids()) ## Read a directory of 3 texts, also can use os.listdir(corpus_root)\n",
    "print('Start of corpus file:', corpus)"
   ]
  },
  {
   "cell_type": "markdown",
   "metadata": {},
   "source": [
    "#### 3.2 Report the lexical diversity score of each (table and plot)"
   ]
  },
  {
   "cell_type": "code",
   "execution_count": 6,
   "metadata": {},
   "outputs": [],
   "source": [
    "## Create summary table for 'Genre', 'Tokens', 'Types', and 'Lexical diversity'\n",
    "\n",
    "lexDiv_table = pd.DataFrame(columns = ['Genre', 'Tokens', 'Types', 'Lexical diversity'])\n",
    "\n",
    "i_index = []\n",
    "i_index = 0\n",
    "\n",
    "for fileid in readers.fileids():\n",
    "    tokens = len(readers.words(fileid))\n",
    "    types = len(set(readers.words(fileid)))\n",
    "    rtxt = readers.words(fileid)\n",
    "    ldiv = lexical_diversity(rtxt)\n",
    "    \n",
    "    table = {'Genre' : fileid, 'Tokens' : tokens, 'Types' : types,'Lexical diversity': ldiv} \n",
    "\n",
    "    df_table = pd.DataFrame(table, \n",
    "                          columns = ['Genre', 'Tokens', 'Types','Lexical diversity'], \n",
    "                          index = [i_index + 1])\n",
    "    i_index += 1\n",
    "    lexDiv_table = lexDiv_table.append(df_table, sort=True).copy()"
   ]
  },
  {
   "cell_type": "code",
   "execution_count": 7,
   "metadata": {},
   "outputs": [
    {
     "name": "stdout",
     "output_type": "stream",
     "text": [
      "Table 1: Lexical diversity score summary for 3 texts\n"
     ]
    },
    {
     "data": {
      "text/html": [
       "<div>\n",
       "<style scoped>\n",
       "    .dataframe tbody tr th:only-of-type {\n",
       "        vertical-align: middle;\n",
       "    }\n",
       "\n",
       "    .dataframe tbody tr th {\n",
       "        vertical-align: top;\n",
       "    }\n",
       "\n",
       "    .dataframe thead th {\n",
       "        text-align: right;\n",
       "    }\n",
       "</style>\n",
       "<table border=\"1\" class=\"dataframe\">\n",
       "  <thead>\n",
       "    <tr style=\"text-align: right;\">\n",
       "      <th></th>\n",
       "      <th>Genre</th>\n",
       "      <th>Lexical diversity</th>\n",
       "      <th>Tokens</th>\n",
       "      <th>Types</th>\n",
       "    </tr>\n",
       "  </thead>\n",
       "  <tbody>\n",
       "    <tr>\n",
       "      <th>1</th>\n",
       "      <td>mg2_pg14668.txt</td>\n",
       "      <td>0.150838</td>\n",
       "      <td>26439</td>\n",
       "      <td>3988</td>\n",
       "    </tr>\n",
       "    <tr>\n",
       "      <th>2</th>\n",
       "      <td>mg4_pg14880.txt</td>\n",
       "      <td>0.116135</td>\n",
       "      <td>87278</td>\n",
       "      <td>10136</td>\n",
       "    </tr>\n",
       "    <tr>\n",
       "      <th>3</th>\n",
       "      <td>mg6_pg16751.txt</td>\n",
       "      <td>0.097926</td>\n",
       "      <td>172590</td>\n",
       "      <td>16901</td>\n",
       "    </tr>\n",
       "  </tbody>\n",
       "</table>\n",
       "</div>"
      ],
      "text/plain": [
       "             Genre  Lexical diversity  Tokens  Types\n",
       "1  mg2_pg14668.txt           0.150838   26439   3988\n",
       "2  mg4_pg14880.txt           0.116135   87278  10136\n",
       "3  mg6_pg16751.txt           0.097926  172590  16901"
      ]
     },
     "execution_count": 7,
     "metadata": {},
     "output_type": "execute_result"
    }
   ],
   "source": [
    "lexDiv_table = lexDiv_table.sort_values(lexDiv_table.columns[2], ascending = True)\n",
    "print('Table 1: Lexical diversity score summary for 3 texts')\n",
    "lexDiv_table"
   ]
  },
  {
   "cell_type": "code",
   "execution_count": 9,
   "metadata": {
    "scrolled": true
   },
   "outputs": [
    {
     "data": {
      "image/png": "[encoded data removed]",
      "text/plain": [
       "<Figure size 432x288 with 1 Axes>"
      ]
     },
     "metadata": {
      "needs_background": "light"
     },
     "output_type": "display_data"
    }
   ],
   "source": [
    "## Plot lexical diversity scores for 3 texts\n",
    "ind = np.arange(3) \n",
    "width = 0.4\n",
    "\n",
    "_ = plt.figure(figsize = (6, 4))\n",
    "offset = width/2\n",
    "plt.bar(ind + offset, lexDiv_table['Lexical diversity'], width, \n",
    "        label='Lexical diversity score', align='center', color = 'skyblue')\n",
    "\n",
    "plt.xticks(ind + offset, lexDiv_table['Genre'], rotation=60, fontsize = '15' )\n",
    "plt.legend(loc='best', fontsize ='15')\n",
    "plt.title('Lexical diversity score plot for 3 texts', fontsize = '18')\n",
    "plt.ylabel('Lexical diversity score', fontsize = '15')\n",
    "plt.axhline(y=0.116, xmin=0.05, xmax=0.95, color='k', linestyle='--', linewidth=2)\n",
    "\n",
    "axes = plt.gca()\n",
    "axes.set_ylim([0, 0.20])\n",
    "\n",
    "plt.show()"
   ]
  },
  {
   "cell_type": "markdown",
   "metadata": {},
   "source": [
    "#### 3.3 Explain whether the result was surprising\n",
    "\n",
    "From the lexical diversity score summary table and plots for 3 different texts selected from the McGuffey readers, we can find that lexical diversity scores increase with lowering the grade level. For example, the lexical diversity score for McGuffey's 2nd grade readers is more than 50% higher than that of McGuffey's 6th grade readers (dashed line is used to mark the lexical diversity score at 0.116).\n",
    "\n",
    "If lexical diversity score is used to measure the text difficulty of English language, we would expect that the score for McGuffey's 6th grade readers is higher than that of McGuffey's 2nd grade readers.\n",
    "\n",
    "Obviously, the lexical diversity scores calculated from this method do meet our expectation from the reality."
   ]
  },
  {
   "cell_type": "markdown",
   "metadata": {},
   "source": [
    "<a id='CE'></a>\n",
    "#### Section 4:  Compare the vocabulary size of the same 3 texts and explain the results\n",
    "Also compare the vocabulary size of the same three texts. Explain whether the result was surprising.\n",
    "\n",
    "##### 4.1 Compare the vocabulary size of the same 3 texts (table and plot)\n",
    "\n",
    "##### 4.2 Explain whether the result was surprising\n",
    "\n",
    "[Back to top](#BacktoTop)"
   ]
  },
  {
   "cell_type": "markdown",
   "metadata": {},
   "source": [
    "#### 4.1 Compare the vocabulary size of the same 3 texts\n",
    "\n",
    "The vocabulary of a text is just the set of tokens that it uses with all duplicates are collapsed together. In Python we can obtain the vocabulary by set() command. Here, we also count lowercase-only items with num_vocab() when not counting all capitalized words (this scenario was discussed in the chapter 1 of Bird-Klein book)."
   ]
  },
  {
   "cell_type": "code",
   "execution_count": 10,
   "metadata": {},
   "outputs": [],
   "source": [
    "vocab_table = pd.DataFrame(columns = ['Genre', 'Num_words', 'Num_vocab', 'Types', 'Tokens'])\n",
    "\n",
    "i_index = []\n",
    "i_index = 0\n",
    "\n",
    "for fileid in readers.fileids():\n",
    "    tokens = len(readers.words(fileid))\n",
    "    num_words = len(readers.words(fileid))\n",
    "    num_vocab = len(set(word.lower() for word in readers.words(fileid)))\n",
    "    types = len(set(readers.words(fileid)))    \n",
    "       \n",
    "    table = {'Genre' : fileid, 'Num_words' : num_words, 'Num_vocab' : num_vocab, 'Types' : types, 'Tokens': tokens} \n",
    "\n",
    "    df_vocab_table = pd.DataFrame(table,\n",
    "                          columns = ['Genre', 'Num_words','Num_vocab', 'Types', 'Tokens'],\n",
    "                          index = [i_index + 1])\n",
    "    i_index += 1\n",
    "    vocab_table = vocab_table.append(df_vocab_table, sort=True).copy()"
   ]
  },
  {
   "cell_type": "code",
   "execution_count": 11,
   "metadata": {
    "scrolled": true
   },
   "outputs": [
    {
     "name": "stdout",
     "output_type": "stream",
     "text": [
      "Results_tbl - sorted by col 3\n"
     ]
    },
    {
     "data": {
      "text/html": [
       "<div>\n",
       "<style scoped>\n",
       "    .dataframe tbody tr th:only-of-type {\n",
       "        vertical-align: middle;\n",
       "    }\n",
       "\n",
       "    .dataframe tbody tr th {\n",
       "        vertical-align: top;\n",
       "    }\n",
       "\n",
       "    .dataframe thead th {\n",
       "        text-align: right;\n",
       "    }\n",
       "</style>\n",
       "<table border=\"1\" class=\"dataframe\">\n",
       "  <thead>\n",
       "    <tr style=\"text-align: right;\">\n",
       "      <th></th>\n",
       "      <th>Genre</th>\n",
       "      <th>Num_vocab</th>\n",
       "      <th>Num_words</th>\n",
       "      <th>Tokens</th>\n",
       "      <th>Types</th>\n",
       "    </tr>\n",
       "  </thead>\n",
       "  <tbody>\n",
       "    <tr>\n",
       "      <th>1</th>\n",
       "      <td>mg2_pg14668.txt</td>\n",
       "      <td>3390</td>\n",
       "      <td>26439</td>\n",
       "      <td>26439</td>\n",
       "      <td>3988</td>\n",
       "    </tr>\n",
       "    <tr>\n",
       "      <th>2</th>\n",
       "      <td>mg4_pg14880.txt</td>\n",
       "      <td>8826</td>\n",
       "      <td>87278</td>\n",
       "      <td>87278</td>\n",
       "      <td>10136</td>\n",
       "    </tr>\n",
       "    <tr>\n",
       "      <th>3</th>\n",
       "      <td>mg6_pg16751.txt</td>\n",
       "      <td>14611</td>\n",
       "      <td>172590</td>\n",
       "      <td>172590</td>\n",
       "      <td>16901</td>\n",
       "    </tr>\n",
       "  </tbody>\n",
       "</table>\n",
       "</div>"
      ],
      "text/plain": [
       "             Genre Num_vocab Num_words  Tokens  Types\n",
       "1  mg2_pg14668.txt      3390     26439   26439   3988\n",
       "2  mg4_pg14880.txt      8826     87278   87278  10136\n",
       "3  mg6_pg16751.txt     14611    172590  172590  16901"
      ]
     },
     "execution_count": 11,
     "metadata": {},
     "output_type": "execute_result"
    }
   ],
   "source": [
    "vocab_table = vocab_table.sort_values(vocab_table.columns[3], ascending = True)\n",
    "print('Results_tbl - sorted by col 3')\n",
    "vocab_table"
   ]
  },
  {
   "cell_type": "code",
   "execution_count": 12,
   "metadata": {},
   "outputs": [
    {
     "data": {
      "image/png": "[encoded data removed]",
      "text/plain": [
       "<Figure size 432x288 with 1 Axes>"
      ]
     },
     "metadata": {
      "needs_background": "light"
     },
     "output_type": "display_data"
    }
   ],
   "source": [
    "## Plot vocabulary size for 3 different grade readers\n",
    "\n",
    "ind = np.arange(3) \n",
    "width = 0.4\n",
    "\n",
    "_ = plt.figure(figsize = (6, 4))\n",
    "offset = width / 2\n",
    "plt.bar(ind + offset, vocab_table['Num_vocab'], width, label='Vocab', color = 'silver')\n",
    "plt.bar(ind + offset + width, vocab_table['Types'], width, label='Types', color = 'lightblue')\n",
    "\n",
    "plt.xticks(ind + width, vocab_table['Genre'], rotation=45)\n",
    "plt.legend(loc='upper left', fontsize ='15')\n",
    "plt.title('Vocabulary size for 3 different grade readers', fontsize = '18')\n",
    "\n",
    "plt.axhline(y=10000, xmin=0.05, xmax=0.95, color='k', linestyle='--', linewidth=2)\n",
    "\n",
    "axes = plt.gca()\n",
    "axes.set_ylim([0, 20000])\n",
    "\n",
    "plt.show()"
   ]
  },
  {
   "cell_type": "markdown",
   "metadata": {},
   "source": [
    "#### 4.2 Explain whether the result was surprising\n",
    "\n",
    "From the summary table and plots as shown above, we can find there are 26439 tokens, 3988 distinct words (\"Types\") and 3390 lowercase words (\"Vocab\") in McGuffey 2 book. These values continue to increase significantly with higher grade readers (McGuffey 4 and 6 books). There are more vocabulary words in the books for higher grade readers. These results are well expected and not surprising like lexical diversity score measurement in Section 3. "
   ]
  },
  {
   "cell_type": "markdown",
   "metadata": {
    "scrolled": true
   },
   "source": [
    "<a id='BetterMeasure'></a>\n",
    "#### Section 5:  Argue if vocabulary size and lexical diversity in combination could be a better measure of text difficulty\n",
    "Write a paragraph arguing whether vocabulary size and lexical diversity in combination could be a better measure of text difficulty (or reading level) than either measure is by itself.\n",
    "\n",
    "5.1 Scatterplot with log-transformed values (\"Types\" and \"Tokens\" against \"Num_vocab\")\n",
    "\n",
    "5.2 Use vocabulary size and lexical diversity in combination to measure text difficulty (table and plot)\n",
    "\n",
    "5.3 Explain whether this is a better measure of text difficulty than either measure is by itself.\n",
    "\n",
    "[Back to top](#BacktoTop)"
   ]
  },
  {
   "cell_type": "markdown",
   "metadata": {},
   "source": [
    "#### 5.1 Scatterplot with log-transformed values (\"Types\" and \"Tokens\" vs. \"Num_vocab\")\n",
    "\n",
    "Considering the large value variations, we use scatterplot with log tranformed values (\"Types\", \"Tokens\", \"Num_vocab\") to understand the potential relationship between \"Token\" and \"types\" (or \"Num_vocab\")."
   ]
  },
  {
   "cell_type": "code",
   "execution_count": 13,
   "metadata": {},
   "outputs": [],
   "source": [
    "vocab_table['Types'] = vocab_table['Types'].astype(np.float64)\n",
    "vocab_table['Tokens'] = vocab_table['Tokens'].astype(np.float64)\n",
    "vocab_table['Num_vocab'] = vocab_table['Num_vocab'].astype(np.float64)"
   ]
  },
  {
   "cell_type": "code",
   "execution_count": 14,
   "metadata": {
    "scrolled": true
   },
   "outputs": [
    {
     "data": {
      "image/png": "[encoded data removed]",
      "text/plain": [
       "<Figure size 576x288 with 1 Axes>"
      ]
     },
     "metadata": {
      "needs_background": "light"
     },
     "output_type": "display_data"
    }
   ],
   "source": [
    "## Scatterplot with log-transformed values (\"Types\" and \"Tokens\" against \"Num_vocab\")\n",
    "\n",
    "ind = np.arange(3) \n",
    "width = 0.4\n",
    "\n",
    "_ = plt.figure(figsize = (8, 4))\n",
    "offset = width / 2\n",
    "plt.scatter(np.log10(vocab_table['Num_vocab']), np.log10(vocab_table['Types']), color = 'm')\n",
    "plt.scatter(np.log10(vocab_table['Num_vocab']), np.log10(vocab_table['Tokens']), color = 'b')\n",
    "\n",
    "plt.legend(loc='upper left', fontsize = '15')\n",
    "plt.title('Scatterplot with \"Types\" and \"Tokens\" vs \"Num_vocab\"', fontsize = '18')\n",
    "plt.xlabel('Number of \"Types\" and \"Tokens\" (log10 scale)', fontsize = '15')\n",
    "plt.ylabel('Number of \"Num_vocab\" (log10 scale)', fontsize = '15')\n",
    "\n",
    "axes = plt.gca()\n",
    "axes.set_xlim([3.3, 4.4])\n",
    "axes.set_ylim([2, 7])\n",
    "\n",
    "plt.show()"
   ]
  },
  {
   "cell_type": "markdown",
   "metadata": {},
   "source": [
    "#### 5.2 Use vocabulary size and lexical diversity in combination to measure text difficulty (table and plot)"
   ]
  },
  {
   "cell_type": "code",
   "execution_count": 15,
   "metadata": {},
   "outputs": [],
   "source": [
    "## Create summary table for 'Genre', 'Types', 'Tokens', 'Num_vocab', 'Lexical diversity', 'NV_ldiv'.\n",
    "## \"NV_ldiv\" is to define the adjusted \"Lexical diversity\" with \"num_vocab\"\n",
    "\n",
    "nlz_table = pd.DataFrame(columns = ['Genre', 'Types', 'Tokens', 'Num_vocab', 'Lexical diversity', 'NV_ldiv'])\n",
    "\n",
    "i_index = []\n",
    "i_index = 0\n",
    "\n",
    "for fileid in readers.fileids():\n",
    "    tokens = len(readers.words(fileid))\n",
    "    types = len(set(readers.words(fileid)))\n",
    "    rtxt = readers.words(fileid)\n",
    "    ldiv = lexical_diversity(rtxt)\n",
    "       \n",
    "    num_words = len(readers.words(fileid))\n",
    "    num_vocab = len(set(word.lower() for word in readers.words(fileid)))\n",
    "    \n",
    "    nv_ldiv = ldiv * num_vocab    \n",
    "\n",
    "    table = {'Genre' : fileid, 'Types' : types, 'Tokens': tokens, 'Num_vocab' : num_vocab,\n",
    "             'Lexical diversity': ldiv, 'NV_ldiv' : nv_ldiv} \n",
    "    \n",
    "    df_table = pd.DataFrame(table, \n",
    "                            columns = ['Genre', 'Types', 'Tokens', 'Num_vocab', 'Lexical diversity', 'NV_ldiv'], \n",
    "                            index = [i_index + 1])\n",
    "    i_index += 1\n",
    "    nlz_table = nlz_table.append(df_table, sort=True).copy()"
   ]
  },
  {
   "cell_type": "code",
   "execution_count": 16,
   "metadata": {},
   "outputs": [
    {
     "name": "stdout",
     "output_type": "stream",
     "text": [
      "Calculation summary after minimum maximum normalization\n"
     ]
    },
    {
     "data": {
      "text/html": [
       "<div>\n",
       "<style scoped>\n",
       "    .dataframe tbody tr th:only-of-type {\n",
       "        vertical-align: middle;\n",
       "    }\n",
       "\n",
       "    .dataframe tbody tr th {\n",
       "        vertical-align: top;\n",
       "    }\n",
       "\n",
       "    .dataframe thead th {\n",
       "        text-align: right;\n",
       "    }\n",
       "</style>\n",
       "<table border=\"1\" class=\"dataframe\">\n",
       "  <thead>\n",
       "    <tr style=\"text-align: right;\">\n",
       "      <th></th>\n",
       "      <th>Genre</th>\n",
       "      <th>Lexical diversity</th>\n",
       "      <th>NV_ldiv</th>\n",
       "      <th>Num_vocab</th>\n",
       "      <th>Tokens</th>\n",
       "      <th>Types</th>\n",
       "    </tr>\n",
       "  </thead>\n",
       "  <tbody>\n",
       "    <tr>\n",
       "      <th>1</th>\n",
       "      <td>mg2_pg14668.txt</td>\n",
       "      <td>1.000000</td>\n",
       "      <td>0.000000</td>\n",
       "      <td>0</td>\n",
       "      <td>0</td>\n",
       "      <td>0</td>\n",
       "    </tr>\n",
       "    <tr>\n",
       "      <th>2</th>\n",
       "      <td>mg4_pg14880.txt</td>\n",
       "      <td>0.344136</td>\n",
       "      <td>0.558663</td>\n",
       "      <td>0.484449</td>\n",
       "      <td>0.416275</td>\n",
       "      <td>0.476109</td>\n",
       "    </tr>\n",
       "    <tr>\n",
       "      <th>3</th>\n",
       "      <td>mg6_pg16751.txt</td>\n",
       "      <td>0.000000</td>\n",
       "      <td>1.000000</td>\n",
       "      <td>1</td>\n",
       "      <td>1</td>\n",
       "      <td>1</td>\n",
       "    </tr>\n",
       "  </tbody>\n",
       "</table>\n",
       "</div>"
      ],
      "text/plain": [
       "             Genre  Lexical diversity   NV_ldiv Num_vocab    Tokens     Types\n",
       "1  mg2_pg14668.txt           1.000000  0.000000         0         0         0\n",
       "2  mg4_pg14880.txt           0.344136  0.558663  0.484449  0.416275  0.476109\n",
       "3  mg6_pg16751.txt           0.000000  1.000000         1         1         1"
      ]
     },
     "execution_count": 16,
     "metadata": {},
     "output_type": "execute_result"
    }
   ],
   "source": [
    "## Minimum maximum normalization[0, 1]: the minimum value is mapped to 0 and the maximum value is mapped to 1.\n",
    "\n",
    "results = nlz_table.copy()\n",
    "results = results.sort_values(nlz_table.columns[3], ascending = True)\n",
    "\n",
    "df = results.iloc[:, 1:6]\n",
    "df_nlz = (df-df.min())/(df.max()-df.min()) # use minimum maximum normalization [0,1]\n",
    "# df_nlz = df / df.max() # also can use maximum normalization only, or Z-score\n",
    "\n",
    "df_labels = results.iloc[:, 0]\n",
    "\n",
    "results = pd.concat([df_labels, df_nlz], axis = 1)\n",
    "\n",
    "print('Calculation summary after minimum maximum normalization')\n",
    "results"
   ]
  },
  {
   "cell_type": "code",
   "execution_count": 17,
   "metadata": {},
   "outputs": [
    {
     "data": {
      "image/png": "[encoded data removed]",
      "text/plain": [
       "<Figure size 504x360 with 1 Axes>"
      ]
     },
     "metadata": {
      "needs_background": "light"
     },
     "output_type": "display_data"
    }
   ],
   "source": [
    "## Plot the lexical diversity scores (w/o normalization and w/ normalization) for 3 texts\n",
    "\n",
    "ind = np.arange(3) \n",
    "width = 0.4\n",
    "\n",
    "_ = plt.figure(figsize = (7, 5))\n",
    "offset = 0\n",
    "plt.bar(ind + offset, results['Lexical diversity'], width, \n",
    "        label='Lexical diversity', align='center', color = 'skyblue')\n",
    "\n",
    "plt.bar(ind + offset+width, results['NV_ldiv'], width, \n",
    "        label='NV_Lexical diversity', align='center', color = 'violet')\n",
    "\n",
    "plt.xticks(ind + width / 16, results['Genre'], rotation=45)\n",
    "plt.legend(loc='best', fontsize ='15')\n",
    "plt.title('Lexical diversity score plot for 3 texts', fontsize = '18')\n",
    "plt.ylabel('(NV_) Lexical diversity score', fontsize = '15')\n",
    "\n",
    "plt.axhline(y=0.55, xmin=0.05, xmax=0.95, color='k', linestyle='--', linewidth=2)\n",
    "\n",
    "axes = plt.gca()\n",
    "axes.set_ylim([0, 1.15])\n",
    "\n",
    "plt.show()"
   ]
  },
  {
   "cell_type": "markdown",
   "metadata": {},
   "source": [
    "#### 5.3 Explain whether this is a better measure of text difficulty than either measure is by itself.\n",
    "\n",
    "From the scatterplot with log-transformed values (\"Types\" and \"Tokens\" against \"Num_vocab\") in Section 5.1, we can find that vocabulary size increases with higher grade readers and the measure of textual lexical diversity in Section 3 can be diverted by this trend.\n",
    "\n",
    "The possible solutions are to normalize the data with minimum maximum normalization (or other methods, like Z-Score or maximum normalization) and also adjust lexical diversity score by multiplying vocabulary size. With this modification, we can see the adjusted lexical diversity scores basically reflect the language difficulties corresponding different grade readers and eliminate the vocabulary size effects.    \n",
    "\n",
    "We can use this method to test more texts and predict the lexical diversity scores for specific texts before giving different groups of students to read. "
   ]
  },
  {
   "cell_type": "markdown",
   "metadata": {},
   "source": [
    "####  References\n",
    "\n",
    "1. Steven Bird, Ewan Klein, Edward Loper. Natural language processing with Python. O’Reilly Media, Inc., 2009. Print.\n",
    "2. Computing with Language: Texts and Words. http://www.nltk.org/book/ch01.html"
   ]
  },
  {
   "cell_type": "markdown",
   "metadata": {},
   "source": [
    "-- The End of Homework 01 --"
   ]
  }
 ],
 "metadata": {
  "kernelspec": {
   "display_name": "Python 3",
   "language": "python",
   "name": "python3"
  },
  "language_info": {
   "codemirror_mode": {
    "name": "ipython",
    "version": 3
   },
   "file_extension": ".py",
   "mimetype": "text/x-python",
   "name": "python",
   "nbconvert_exporter": "python",
   "pygments_lexer": "ipython3",
   "version": "3.6.8"
  }
 },
 "nbformat": 4,
 "nbformat_minor": 2
}
